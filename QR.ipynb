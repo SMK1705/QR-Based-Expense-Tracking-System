{
 "cells": [
  {
   "cell_type": "code",
   "execution_count": 10,
   "metadata": {},
   "outputs": [
    {
     "ename": "KeyboardInterrupt",
     "evalue": "",
     "output_type": "error",
     "traceback": [
      "\u001b[1;31m---------------------------------------------------------------------------\u001b[0m",
      "\u001b[1;31mKeyboardInterrupt\u001b[0m                         Traceback (most recent call last)",
      "Cell \u001b[1;32mIn [10], line 9\u001b[0m\n\u001b[0;32m      6\u001b[0m detector \u001b[39m=\u001b[39m cv2\u001b[39m.\u001b[39mQRCodeDetector()\n\u001b[0;32m      8\u001b[0m \u001b[39mwhile\u001b[39;00m \u001b[39mTrue\u001b[39;00m:\n\u001b[1;32m----> 9\u001b[0m \t_, img \u001b[39m=\u001b[39m cap\u001b[39m.\u001b[39;49mread()\n\u001b[0;32m     10\u001b[0m data, bbox, _ \u001b[39m=\u001b[39m detector\u001b[39m.\u001b[39mdetectAndDecode(img)\n\u001b[0;32m     11\u001b[0m \u001b[39m# check if there is a QRCode in the image\u001b[39;00m\n",
      "\u001b[1;31mKeyboardInterrupt\u001b[0m: "
     ]
    }
   ],
   "source": [
    "import cv2\n",
    "import webbrowser\n",
    "\n",
    "cap = cv2.VideoCapture(0)\n",
    "# initialize the cv2 QRCode detector\n",
    "detector = cv2.QRCodeDetector()\n",
    "\n",
    "while True:\n",
    "\t_, img = cap.read()\n",
    "data, bbox, _ = detector.detectAndDecode(img)\n",
    "# check if there is a QRCode in the image\n",
    "if data:\n",
    "    a=data\n",
    "#break\n",
    "\n",
    "\n",
    "cv2.imshow(\"QRCODEscanner\", img)\t\n",
    "cv2.waitKey(1)\n",
    "#if cv2.waitKey(1) == ord(\"q\"):\n",
    " #   break\n",
    "\n",
    "b=webbrowser.open(str(a))\n",
    "cap.release()\n",
    "cv2.destroyAllWindows()\n",
    "\n",
    "\n"
   ]
  }
 ],
 "metadata": {
  "kernelspec": {
   "display_name": "Python 3",
   "language": "python",
   "name": "python3"
  },
  "language_info": {
   "codemirror_mode": {
    "name": "ipython",
    "version": 3
   },
   "file_extension": ".py",
   "mimetype": "text/x-python",
   "name": "python",
   "nbconvert_exporter": "python",
   "pygments_lexer": "ipython3",
   "version": "3.10.7"
  },
  "orig_nbformat": 4,
  "vscode": {
   "interpreter": {
    "hash": "26de051ba29f2982a8de78e945f0abaf191376122a1563185a90213a26c5da77"
   }
  }
 },
 "nbformat": 4,
 "nbformat_minor": 2
}
