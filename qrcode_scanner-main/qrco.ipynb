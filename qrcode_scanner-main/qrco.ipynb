{
 "cells": [
  {
   "cell_type": "code",
   "execution_count": 3,
   "metadata": {},
   "outputs": [],
   "source": [
    "from pymongo import MongoClient\n",
    "\n",
    "client = MongoClient(\"mongodb://localhost:27017/\")\n",
    "mydb=client['SMK']"
   ]
  },
  {
   "cell_type": "code",
   "execution_count": 4,
   "metadata": {},
   "outputs": [
    {
     "name": "stdout",
     "output_type": "stream",
     "text": [
      "collection found\n"
     ]
    }
   ],
   "source": [
    "if 'MoneyManager' in mydb.list_collection_names():\n",
    "    print('collection found')\n",
    "else:\n",
    "    mydb.create_collection(\"MoneyManager\")"
   ]
  },
  {
   "cell_type": "code",
   "execution_count": 5,
   "metadata": {},
   "outputs": [],
   "source": [
    "import cv2\n",
    "import numpy as np\n",
    "from pyzbar.pyzbar import decode\n",
    "#from pyzbar.pyzbar import ZBarSymbol\n",
    "\n",
    "\n",
    "#a = open(\"C:\\\\SMK\\\\DA\\\\Python\\\\Project\\\\QR\\\\Dat\\\\a.txt\",'w+')\n",
    "\n",
    "cap = cv2.VideoCapture(0)\n",
    "cap.set(3,640) #width of the frames in the video feed\n",
    "cap.set(4,480) #height of the frames in the video feed \n",
    "i=0\n",
    "b = []\n",
    "\n",
    "while len(b)<1:\n",
    "    ret,img = cap.read()\n",
    "    cv2.imshow('answer',img)\n",
    "    for barcode in decode(img):\n",
    "        mydata = barcode.data.decode('utf-8')\n",
    "        #myd=mydata.split(\",\")\n",
    "        b.append(mydata)\n",
    "        #print(myd)\n",
    "        \n",
    "    cv2.waitKey(1)\n",
    "\n",
    "#for i in range(1):\n",
    "     #a.write(str(b))"
   ]
  },
  {
   "cell_type": "code",
   "execution_count": 6,
   "metadata": {},
   "outputs": [
    {
     "name": "stdout",
     "output_type": "stream",
     "text": [
      "['Rhr restaurant = 50']\n"
     ]
    }
   ],
   "source": [
    "print(b)\n",
    "cv2.destroyAllWindows()"
   ]
  },
  {
   "cell_type": "code",
   "execution_count": 7,
   "metadata": {},
   "outputs": [
    {
     "name": "stdout",
     "output_type": "stream",
     "text": [
      "['Rhr', 'restaurant', '=', '50']\n"
     ]
    }
   ],
   "source": [
    "#b=['ammen supermarket = 20']\n",
    "l=[]\n",
    "l=b[0].split()\n",
    "print(l)"
   ]
  },
  {
   "cell_type": "code",
   "execution_count": 8,
   "metadata": {},
   "outputs": [
    {
     "data": {
      "text/plain": [
       "[50]"
      ]
     },
     "execution_count": 8,
     "metadata": {},
     "output_type": "execute_result"
    }
   ],
   "source": [
    "res_str = [ele for ele in l if ele.isdigit()==False]\n",
    "res_int = [int(ele) for ele in l if ele.isdigit()==True]\n",
    "res_int"
   ]
  },
  {
   "cell_type": "code",
   "execution_count": 9,
   "metadata": {},
   "outputs": [
    {
     "name": "stdout",
     "output_type": "stream",
     "text": [
      "Food\n"
     ]
    }
   ],
   "source": [
    "grocery = [ 'supermarket','food','market','delicatessen','hypermarket','greengrocery','pharmacy',\n",
    "            'grocery','store','greengrocer','general store','convenience store','walmart','mart\tshop',\n",
    "            'grocer store','cashier','shopper','dairy','pizza','warehouse','mall','restaurants','marketplace','retailer']\n",
    "\n",
    "food = ['restarunt','mess','cafe','inn','restaurant','motel','resort','hostel','resort hotel',\n",
    "            'hotel room','hyatt','mansion','beachfront']\n",
    "\n",
    "\n",
    "moneyman = dict()\n",
    "\n",
    "for i in res_str:\n",
    "    if i in grocery:\n",
    "        moneyman['Category'] = \"Grocery\"\n",
    "        print(\"Grocery\")\n",
    "        for i in res_int:\n",
    "            moneyman['Amount'] = i\n",
    "        mydb.MoneyManager.insert_one(moneyman)\n",
    "\n",
    "    elif i in food:\n",
    "        moneyman['Category'] = \"Food\"\n",
    "        print(\"Food\")\n",
    "        for i in res_int:\n",
    "            moneyman['Amount'] = i\n",
    "        mydb.MoneyManager.insert_one(moneyman)\n",
    "\n",
    "    \n",
    "            "
   ]
  },
  {
   "cell_type": "code",
   "execution_count": 10,
   "metadata": {},
   "outputs": [],
   "source": [
    "#cat = input(\"Enter the name of the Category\")"
   ]
  },
  {
   "cell_type": "code",
   "execution_count": 11,
   "metadata": {},
   "outputs": [],
   "source": [
    "x = mydb.MoneyManager.find({},{'Category': 1, 'Amount': 1})\n",
    "amt = [] \n",
    "cat = input(\"Enter the name of the Category\")\n",
    "for data in x:\n",
    "    if data['Category'] == str(cat):\n",
    "        resultList = list(data.values())\n",
    "        amt.append(resultList)\n"
   ]
  },
  {
   "cell_type": "code",
   "execution_count": 12,
   "metadata": {},
   "outputs": [
    {
     "name": "stdout",
     "output_type": "stream",
     "text": [
      "[]\n"
     ]
    }
   ],
   "source": [
    "print(amt)\n",
    "    "
   ]
  },
  {
   "cell_type": "code",
   "execution_count": null,
   "metadata": {},
   "outputs": [
    {
     "name": "stdout",
     "output_type": "stream",
     "text": [
      "[[28], [48], [20], [50], [98], [24], [116], [38], [103], [20], [18], [66], [20], [20], [20], [28], [56], [62], [38], [50], [28], [48], [86], [18]]\n"
     ]
    }
   ],
   "source": [
    "tot_list = []\n",
    "for i in amt:\n",
    "    r_int = [int(ele) for ele in i if type(ele) == int]\n",
    "    tot_list.append(r_int)\n",
    "    \n",
    "print(tot_list)"
   ]
  },
  {
   "cell_type": "code",
   "execution_count": null,
   "metadata": {},
   "outputs": [
    {
     "name": "stdout",
     "output_type": "stream",
     "text": [
      "[28, 48, 20, 50, 98, 24, 116, 38, 103, 20, 18, 66, 20, 20, 20, 28, 56, 62, 38, 50, 28, 48, 86, 18]\n"
     ]
    }
   ],
   "source": [
    "tot = []\n",
    "for i in tot_list:\n",
    "    for j in i:\n",
    "        tot.append(j)\n",
    "\n",
    "print(tot)   "
   ]
  },
  {
   "cell_type": "code",
   "execution_count": null,
   "metadata": {},
   "outputs": [
    {
     "name": "stdout",
     "output_type": "stream",
     "text": [
      "The total expenditure for  is 1103\n"
     ]
    }
   ],
   "source": [
    "TotalCost = sum(tot)\n",
    "print(\"The total expenditure for\",cat,\"is\",TotalCost)"
   ]
  }
 ],
 "metadata": {
  "kernelspec": {
   "display_name": "Python 3",
   "language": "python",
   "name": "python3"
  },
  "language_info": {
   "codemirror_mode": {
    "name": "ipython",
    "version": 3
   },
   "file_extension": ".py",
   "mimetype": "text/x-python",
   "name": "python",
   "nbconvert_exporter": "python",
   "pygments_lexer": "ipython3",
   "version": "3.10.7"
  },
  "orig_nbformat": 4,
  "vscode": {
   "interpreter": {
    "hash": "26de051ba29f2982a8de78e945f0abaf191376122a1563185a90213a26c5da77"
   }
  }
 },
 "nbformat": 4,
 "nbformat_minor": 2
}
