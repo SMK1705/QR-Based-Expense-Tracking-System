{
 "cells": [
  {
   "cell_type": "code",
   "execution_count": 1,
   "metadata": {},
   "outputs": [],
   "source": [
    "import cv2\n",
    "import numpy as np\n",
    "from pyzbar.pyzbar import decode\n",
    "from pymongo import MongoClient\n",
    "import logging\n",
    "import tkinter as tk\n",
    "from tkinter import messagebox"
   ]
  },
  {
   "cell_type": "markdown",
   "metadata": {},
   "source": [
    "Setup logging"
   ]
  },
  {
   "cell_type": "code",
   "execution_count": 2,
   "metadata": {},
   "outputs": [],
   "source": [
    "logging.basicConfig(level=logging.INFO)"
   ]
  },
  {
   "cell_type": "markdown",
   "metadata": {},
   "source": [
    "Configuration"
   ]
  },
  {
   "cell_type": "code",
   "execution_count": 3,
   "metadata": {},
   "outputs": [],
   "source": [
    "DB_URI = \"mongodb://localhost:27017/\"\n",
    "DB_NAME = 'SMK'\n",
    "COLLECTION_NAME = 'MoneyManager'"
   ]
  },
  {
   "cell_type": "markdown",
   "metadata": {},
   "source": [
    "Connect to MongoDB"
   ]
  },
  {
   "cell_type": "code",
   "execution_count": 4,
   "metadata": {},
   "outputs": [],
   "source": [
    "def connect_to_db():\n",
    "    client = MongoClient(DB_URI)\n",
    "    return client[DB_NAME]"
   ]
  },
  {
   "cell_type": "markdown",
   "metadata": {},
   "source": [
    "Create or get collection"
   ]
  },
  {
   "cell_type": "code",
   "execution_count": 5,
   "metadata": {},
   "outputs": [],
   "source": [
    "def get_collection(db):\n",
    "    if COLLECTION_NAME in db.list_collection_names():\n",
    "        logging.info('Collection found')\n",
    "    else:\n",
    "        db.create_collection(COLLECTION_NAME)\n",
    "        logging.info('Collection created')\n",
    "    return db[COLLECTION_NAME]"
   ]
  },
  {
   "cell_type": "markdown",
   "metadata": {},
   "source": [
    "Scan QR Code"
   ]
  },
  {
   "cell_type": "code",
   "execution_count": 6,
   "metadata": {},
   "outputs": [],
   "source": [
    "def scan_qr_code():\n",
    "    cap = cv2.VideoCapture(0)\n",
    "    cap.set(3, 640)\n",
    "    cap.set(4, 480)\n",
    "    b = []\n",
    "\n",
    "    while len(b) < 1:\n",
    "        ret, img = cap.read()\n",
    "        cv2.imshow('QR Code Scanner', img)\n",
    "        for barcode in decode(img):\n",
    "            mydata = barcode.data.decode('utf-8')\n",
    "            b.append(mydata)\n",
    "        cv2.waitKey(1)\n",
    "\n",
    "    cv2.destroyAllWindows()\n",
    "    return b"
   ]
  },
  {
   "cell_type": "markdown",
   "metadata": {},
   "source": [
    "Process scanned data"
   ]
  },
  {
   "cell_type": "code",
   "execution_count": 7,
   "metadata": {},
   "outputs": [],
   "source": [
    "def process_data(data):\n",
    "    l = data[0].split()\n",
    "    res_str = [ele for ele in l if not ele.isdigit()]\n",
    "    res_int = [int(ele) for ele in l if ele.isdigit()]\n",
    "    return res_str, res_int"
   ]
  },
  {
   "cell_type": "markdown",
   "metadata": {},
   "source": [
    "Insert data into database"
   ]
  },
  {
   "cell_type": "code",
   "execution_count": 8,
   "metadata": {},
   "outputs": [],
   "source": [
    "def insert_data(collection, category, amount):\n",
    "    record = {'Category': category, 'Amount': amount}\n",
    "    collection.insert_one(record)\n",
    "    logging.info(f\"Inserted record: {record}\")"
   ]
  },
  {
   "cell_type": "markdown",
   "metadata": {},
   "source": [
    "Identify category and insert data"
   ]
  },
  {
   "cell_type": "code",
   "execution_count": 9,
   "metadata": {},
   "outputs": [],
   "source": [
    "def categorize_and_insert(collection, res_str, res_int):\n",
    "    category_keywords = {\n",
    "        'Grocery': ['supermarket', 'food', 'market', 'delicatessen', 'hypermarket', 'greengrocery', 'pharmacy', 'grocery', 'store', 'greengrocer', 'general store', 'convenience store', 'walmart', 'mart', 'shop', 'grocer store', 'cashier', 'shopper', 'dairy', 'pizza', 'warehouse', 'mall', 'restaurants', 'marketplace', 'retailer'],\n",
    "        'Food': ['restarunt', 'mess', 'cafe', 'inn', 'restaurant', 'motel', 'resort', 'hostel', 'resort hotel', 'hotel room', 'hyatt', 'mansion', 'beachfront'],\n",
    "        'Transport': ['taxi', 'bus', 'train', 'flight', 'uber', 'lyft', 'cab', 'metro', 'subway', 'tram'],\n",
    "        'Entertainment': ['cinema', 'movie', 'theater', 'concert', 'show', 'event', 'festival', 'amusement', 'park', 'zoo', 'aquarium'],\n",
    "        'Utilities': ['electricity', 'water', 'gas', 'internet', 'phone', 'mobile', 'bill', 'utility'],\n",
    "        'Rent': ['rent', 'lease', 'apartment', 'house', 'home', 'accommodation', 'lodging'],\n",
    "        'Shopping': ['clothes', 'shoes', 'apparel', 'fashion', 'jewelry', 'accessories', 'electronics', 'gadgets', 'furniture'],\n",
    "        'Healthcare': ['doctor', 'hospital', 'clinic', 'pharmacy', 'medication', 'drug', 'medicine', 'health', 'care', 'treatment', 'surgery'],\n",
    "        'Education': ['school', 'college', 'university', 'tuition', 'course', 'class', 'training', 'education', 'study', 'learning'],\n",
    "        'Others': ['miscellaneous', 'other', 'etc', 'misc']\n",
    "    }\n",
    "\n",
    "    for word in res_str:\n",
    "        for category, keywords in category_keywords.items():\n",
    "            if word in keywords:\n",
    "                for amount in res_int:\n",
    "                    insert_data(collection, category, amount)\n",
    "                return\n",
    "\n",
    "    # If no category is matched, categorize as 'Uncategorized'\n",
    "    for amount in res_int:\n",
    "        insert_data(collection, 'Uncategorized', amount)"
   ]
  },
  {
   "cell_type": "markdown",
   "metadata": {},
   "source": [
    "Retrieve and calculate total expenditure"
   ]
  },
  {
   "cell_type": "code",
   "execution_count": 10,
   "metadata": {},
   "outputs": [],
   "source": [
    "def calculate_total_expenditure(collection, category):\n",
    "    x = collection.find({'Category': category}, {'Category': 1, 'Amount': 1})\n",
    "    total = sum([data['Amount'] for data in x])\n",
    "    logging.info(f\"The total expenditure for {category} is {total}\")\n",
    "    return total"
   ]
  },
  {
   "cell_type": "markdown",
   "metadata": {},
   "source": [
    "GUI Functions"
   ]
  },
  {
   "cell_type": "code",
   "execution_count": 11,
   "metadata": {},
   "outputs": [],
   "source": [
    "def start_scanner():\n",
    "    scanned_data = scan_qr_code()\n",
    "    if not scanned_data:\n",
    "        messagebox.showerror(\"Error\", \"No data scanned.\")\n",
    "        return\n",
    "\n",
    "    res_str, res_int = process_data(scanned_data)\n",
    "    categorize_and_insert(collection, res_str, res_int)\n",
    "    messagebox.showinfo(\"Success\", \"Data scanned and saved successfully.\")\n",
    "\n",
    "def calculate_expenditure():\n",
    "    category = category_entry.get()\n",
    "    if not category:\n",
    "        messagebox.showerror(\"Error\", \"Please enter a category.\")\n",
    "        return\n",
    "\n",
    "    total_expenditure = calculate_total_expenditure(collection, category)\n",
    "    result_label.config(text=f\"The total expenditure for {category} is {total_expenditure}\")"
   ]
  },
  {
   "cell_type": "markdown",
   "metadata": {},
   "source": [
    "Main function"
   ]
  },
  {
   "cell_type": "code",
   "execution_count": 12,
   "metadata": {},
   "outputs": [
    {
     "name": "stderr",
     "output_type": "stream",
     "text": [
      "INFO:root:Collection found\n",
      "INFO:root:Inserted record: {'Category': 'Food', 'Amount': 143, '_id': ObjectId('6695a20a413fc9067a1f5697')}\n",
      "INFO:root:The total expenditure for Food is 143\n"
     ]
    }
   ],
   "source": [
    "def main():\n",
    "    global collection\n",
    "    db = connect_to_db()\n",
    "    collection = get_collection(db)\n",
    "\n",
    "    # GUI Setup\n",
    "    root = tk.Tk()\n",
    "    root.title(\"QR Code Expense Tracker\")\n",
    "\n",
    "    scan_button = tk.Button(root, text=\"Start Scanner\", command=start_scanner)\n",
    "    scan_button.pack(pady=10)\n",
    "\n",
    "    category_label = tk.Label(root, text=\"Enter Category:\")\n",
    "    category_label.pack(pady=5)\n",
    "\n",
    "    global category_entry\n",
    "    category_entry = tk.Entry(root)\n",
    "    category_entry.pack(pady=5)\n",
    "\n",
    "    calculate_button = tk.Button(root, text=\"Calculate Expenditure\", command=calculate_expenditure)\n",
    "    calculate_button.pack(pady=10)\n",
    "\n",
    "    global result_label\n",
    "    result_label = tk.Label(root, text=\"\")\n",
    "    result_label.pack(pady=10)\n",
    "\n",
    "    root.mainloop()\n",
    "\n",
    "if __name__ == \"__main__\":\n",
    "    main()"
   ]
  },
  {
   "cell_type": "code",
   "execution_count": null,
   "metadata": {},
   "outputs": [],
   "source": []
  }
 ],
 "metadata": {
  "kernelspec": {
   "display_name": "Python 3",
   "language": "python",
   "name": "python3"
  },
  "language_info": {
   "codemirror_mode": {
    "name": "ipython",
    "version": 3
   },
   "file_extension": ".py",
   "mimetype": "text/x-python",
   "name": "python",
   "nbconvert_exporter": "python",
   "pygments_lexer": "ipython3",
   "version": "3.11.3"
  }
 },
 "nbformat": 4,
 "nbformat_minor": 2
}
